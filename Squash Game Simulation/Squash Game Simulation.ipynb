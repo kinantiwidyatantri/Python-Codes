{
 "cells": [
  {
   "cell_type": "markdown",
   "metadata": {},
   "source": [
    "In case the code for the graph does not work, just put it in the normal python:)"
   ]
  },
  {
   "cell_type": "code",
   "execution_count": null,
   "metadata": {},
   "outputs": [],
   "source": [
    "\n",
    "import random\n",
    "from matplotlib import pyplot as plt\n",
    "import csv\n",
    "import math"
   ]
  },
  {
   "cell_type": "markdown",
   "metadata": {},
   "source": [
    "\n",
    "The following function implements the PARS algorithm.\n"
   ]
  },
  {
   "cell_type": "code",
   "execution_count": 48,
   "metadata": {},
   "outputs": [
    {
     "data": {
      "text/plain": [
       "(11, 5)"
      ]
     },
     "execution_count": 48,
     "metadata": {},
     "output_type": "execute_result"
    }
   ],
   "source": [
    "import random\n",
    "def game(ra, rb):\n",
    "    player_a = 0  #score player a\n",
    "    player_b = 0  #score player b\n",
    "    prob_of_winning_a = ra / (ra + rb) \n",
    "\n",
    "    score_winning = 11 or abs(player_a - player_b) >= 2\n",
    "\n",
    "    while (player_a < score_winning and player_b < score_winning):\n",
    "        num = random.random()\n",
    "        if num <= prob_of_winning_a:\n",
    "            player_a = player_a + 1\n",
    "        else:\n",
    "            player_b = player_b + 1\n",
    "            \n",
    "    return player_a, player_b\n",
    "\n",
    "\n",
    "game(70, 30)"
   ]
  },
  {
   "cell_type": "markdown",
   "metadata": {},
   "source": [
    "**Testing:** If the random seed is set to 57, then calling the function with arguments `70` and `30` should return `(11,5)`."
   ]
  },
  {
   "cell_type": "code",
   "execution_count": 20,
   "metadata": {},
   "outputs": [
    {
     "data": {
      "text/plain": [
       "(11, 5)"
      ]
     },
     "execution_count": 20,
     "metadata": {},
     "output_type": "execute_result"
    }
   ],
   "source": [
    "random.seed(57)\n",
    "game(70, 30)"
   ]
  },
  {
   "cell_type": "markdown",
   "metadata": {},
   "source": [
    " Function `win_probability_game(ra, rb, simulations)` simulate `simulations` games in order to estimate the probability that a player with ability `ra` will win a game against a player of ability `rb`.\n"
   ]
  },
  {
   "cell_type": "code",
   "execution_count": 49,
   "metadata": {},
   "outputs": [
    {
     "data": {
      "text/plain": [
       "0.9726"
      ]
     },
     "execution_count": 49,
     "metadata": {},
     "output_type": "execute_result"
    }
   ],
   "source": [
    "def win_probability_game(ra, rb, simulations):\n",
    "    win_a = 0\n",
    "    win_b = 0\n",
    "    win_list = []\n",
    "    \n",
    "    for x in range(simulations):\n",
    "        win_list.append(game(ra,rb))\n",
    "    \n",
    "\n",
    "    for key in win_list:\n",
    "        if key[0] > key[1]:\n",
    "            win_a = win_a + 1\n",
    "        else:\n",
    "            win_b = win_b + 1\n",
    "\n",
    "    prob = win_a / (win_a + win_b)\n",
    "    \n",
    "    return prob\n",
    "\n",
    "win_probability_game(70,30, 10000)"
   ]
  },
  {
   "cell_type": "markdown",
   "metadata": {},
   "source": [
    "**Testing:** Given sufficient simulations, calling the function with abilities `70` and `30` should give the answer `0.98` when printed to 2 decimal places."
   ]
  },
  {
   "cell_type": "code",
   "execution_count": null,
   "metadata": {},
   "outputs": [],
   "source": [
    "# Print win_probability_game(70, 30, print(round(winProbability(70, 30), 2))) to 2 decimal places for a suitable value of n"
   ]
  },
  {
   "cell_type": "markdown",
   "metadata": {},
   "source": [
    "Assume players abilities are given in a csv file with the format:\n",
    "```\n",
    "player a ability, player b ability,\n",
    "60, 20,\n",
    "100, 55,\n",
    "50, 40,\n",
    "20, 70,\n",
    "95, 85,\n",
    "```\n",
    "The following function read in a specified csv file of this format and return a `list` of `tuple`s containing each pair of abilities.\n",
    "\n"
   ]
  },
  {
   "cell_type": "code",
   "execution_count": 43,
   "metadata": {},
   "outputs": [],
   "source": [
    "import csv\n",
    "def read_abilities(namefile): # HINT: what should the argument be?\n",
    "    with open(namefile) as csvfile:\n",
    "        rdr = csv.reader(csvfile)\n",
    "        next(rdr)\n",
    "        ability = []\n",
    "       \n",
    "        for row in rdr:\n",
    "            ability.append((row[0], row[1]))\n",
    "        \n",
    "    return ability\n",
    "\n",
    "        "
   ]
  },
  {
   "cell_type": "markdown",
   "metadata": {},
   "source": [
    "**Testing:** Calling the function to read the file `test.csv` from Learning Central should return `[(60, 20), (100, 55), (50, 40), (20, 70), (95, 85)]`"
   ]
  },
  {
   "cell_type": "code",
   "execution_count": 42,
   "metadata": {},
   "outputs": [
    {
     "data": {
      "text/plain": [
       "[('60', '20'), ('100', '55'), ('50', '40'), ('20', '70'), ('95', '85')]"
      ]
     },
     "execution_count": 42,
     "metadata": {},
     "output_type": "execute_result"
    }
   ],
   "source": [
    "# Print the result of calling the function for the file `test.csv`\n",
    "read_abilities('test.csv')"
   ]
  },
  {
   "cell_type": "markdown",
   "metadata": {},
   "source": [
    " Function that takes a `list` of the format returned by the function above as an argument, and uses `matplotlib` to produce a plot (with labelled axes) showing the probability that player a beats player b (in a game) against `ra / r_b` for each pair.\n"
   ]
  },
  {
   "cell_type": "code",
   "execution_count": 60,
   "metadata": {},
   "outputs": [
    {
     "ename": "ModuleNotFoundError",
     "evalue": "No module named 'matplotlib'",
     "output_type": "error",
     "traceback": [
      "\u001b[1;31m---------------------------------------------------------------------------\u001b[0m",
      "\u001b[1;31mModuleNotFoundError\u001b[0m                       Traceback (most recent call last)",
      "\u001b[1;32mC:\\Users\\KINANT~1\\AppData\\Local\\Temp/ipykernel_29628/3408623504.py\u001b[0m in \u001b[0;36m<module>\u001b[1;34m\u001b[0m\n\u001b[1;32m----> 1\u001b[1;33m \u001b[1;32mfrom\u001b[0m \u001b[0mmatplotlib\u001b[0m \u001b[1;32mimport\u001b[0m \u001b[0mpyplot\u001b[0m \u001b[1;32mas\u001b[0m \u001b[0mplt\u001b[0m\u001b[1;33m\u001b[0m\u001b[1;33m\u001b[0m\u001b[0m\n\u001b[0m\u001b[0;32m      2\u001b[0m \u001b[1;32mdef\u001b[0m \u001b[0mplot_win_probabilities\u001b[0m\u001b[1;33m(\u001b[0m\u001b[0mdata\u001b[0m\u001b[1;33m)\u001b[0m\u001b[1;33m:\u001b[0m \u001b[1;31m# HINT: what should the argument be?\u001b[0m\u001b[1;33m\u001b[0m\u001b[1;33m\u001b[0m\u001b[0m\n\u001b[0;32m      3\u001b[0m \u001b[1;33m\u001b[0m\u001b[0m\n\u001b[0;32m      4\u001b[0m     \u001b[0mx\u001b[0m \u001b[1;33m=\u001b[0m \u001b[0msorted\u001b[0m\u001b[1;33m(\u001b[0m\u001b[1;33m[\u001b[0m\u001b[0mint\u001b[0m\u001b[1;33m(\u001b[0m\u001b[0mx\u001b[0m\u001b[1;33m[\u001b[0m\u001b[1;36m0\u001b[0m\u001b[1;33m]\u001b[0m\u001b[1;33m)\u001b[0m\u001b[1;33m/\u001b[0m\u001b[0mint\u001b[0m\u001b[1;33m(\u001b[0m\u001b[0mx\u001b[0m\u001b[1;33m[\u001b[0m\u001b[1;36m1\u001b[0m\u001b[1;33m]\u001b[0m\u001b[1;33m)\u001b[0m \u001b[1;32mfor\u001b[0m \u001b[0mx\u001b[0m \u001b[1;32min\u001b[0m \u001b[0mdata\u001b[0m\u001b[1;33m]\u001b[0m\u001b[1;33m)\u001b[0m\u001b[1;33m\u001b[0m\u001b[1;33m\u001b[0m\u001b[0m\n\u001b[0;32m      5\u001b[0m     \u001b[0my\u001b[0m \u001b[1;33m=\u001b[0m \u001b[0msorted\u001b[0m\u001b[1;33m(\u001b[0m\u001b[1;33m[\u001b[0m\u001b[0mint\u001b[0m\u001b[1;33m(\u001b[0m\u001b[0mx\u001b[0m\u001b[1;33m[\u001b[0m\u001b[1;36m0\u001b[0m\u001b[1;33m]\u001b[0m\u001b[1;33m)\u001b[0m \u001b[1;33m/\u001b[0m \u001b[1;36m100\u001b[0m \u001b[1;32mfor\u001b[0m \u001b[0mx\u001b[0m \u001b[1;32min\u001b[0m \u001b[0mdata\u001b[0m\u001b[1;33m]\u001b[0m\u001b[1;33m)\u001b[0m\u001b[1;33m\u001b[0m\u001b[1;33m\u001b[0m\u001b[0m\n",
      "\u001b[1;31mModuleNotFoundError\u001b[0m: No module named 'matplotlib'"
     ]
    }
   ],
   "source": [
    "from matplotlib import pyplot as plt\n",
    "def plot_win_probabilities(data): # HINT: what should the argument be?\n",
    "    \n",
    "    x = sorted([int(x[0])/int(x[1]) for x in data])\n",
    "    y = sorted([int(x[0]) / 100 for x in data])\n",
    "\n",
    "    plt.scatter(x, y)\n",
    "    plt.xlabel('ra/rb')\n",
    "    plt.ylabel('player A')\n",
    "    plt.show()\n",
    "\n",
    "plot_win_probabilities(read_abilities('test.csv'))"
   ]
  },
  {
   "cell_type": "markdown",
   "metadata": {},
   "source": [
    "**Testing:** The following figure (or similar) should result from the data `[(60, 20), (100, 55), (50, 40), (20, 70), (95, 85)]'\n",
    "\n",
    "<img src=\"./win_probabilities.png\" alt=\"Win probabilities\" width=\"500\">\n"
   ]
  },
  {
   "cell_type": "code",
   "execution_count": null,
   "metadata": {},
   "outputs": [],
   "source": [
    "# Call the function to plot the figure here\n",
    "plot_win_probabilities(read_abilities('test.csv'))"
   ]
  },
  {
   "cell_type": "markdown",
   "metadata": {},
   "source": [
    "Function `win_probability_match(ra, rb, simulations, m)` simulate `simulations` matches which are won by the first player to win `m` games, and returns an estimate of the probability that a player with ability `ra` will win such a match against a player of ability `rb`.\n",
    "\n"
   ]
  },
  {
   "cell_type": "code",
   "execution_count": 46,
   "metadata": {},
   "outputs": [
    {
     "name": "stdout",
     "output_type": "stream",
     "text": [
      "Player A needs to win 2 game out of 3 game to have the probability of 0.946688 to win the match\n"
     ]
    }
   ],
   "source": [
    "import math\n",
    "def ncr(n,r):\n",
    "    y = math.factorial(n) / (math.factorial(r)*math.factorial(n-r)) \n",
    "    return y\n",
    "\n",
    "def win_probability_match(ra, rb, simulations, m):\n",
    "    prob_ls = []\n",
    "\n",
    "    a = win_probability_game(ra, rb, simulations)\n",
    "\n",
    "    for x in range(m, (m*2)):\n",
    "        calc = ncr((2*m)-1,x) * math.pow((a),x) * math.pow((1-a),(2*m)-1-x)\n",
    "        prob_ls.append(calc)\n",
    "\n",
    "    total = sum(prob_ls)\n",
    "    \n",
    "    print(f\"Player A needs to win {m} game out of {2*m-1} game to have the probability of {total} to win the match\")\n",
    "\n",
    "win_probability_match(60,40,100, 2)\n"
   ]
  },
  {
   "cell_type": "markdown",
   "metadata": {},
   "source": [
    "\n",
    "The remaining report  uses the results of simulation (with suitable input data) to investigate whether English or PARS is the ``better'' scoring method for squash matches. \n",
    "\n",
    "The investigation consider the relative ability of the two players (i.e. `ra/rb`) as the _independent variable_ and include appropriate figures that show how the choice of relevant _dependent variable_ varies. The results cover at least 50 different values of `ra/rb`.\n"
   ]
  },
  {
   "cell_type": "markdown",
   "metadata": {},
   "source": [
    "## Problem"
   ]
  },
  {
   "cell_type": "markdown",
   "metadata": {},
   "source": [
    "Identifying better scoring methods between English scoring and PARS. In this report, the 'better' scoring method is chosen based on the method's fairness—players with a better ability have a higher chance of winning the game.\n"
   ]
  },
  {
   "cell_type": "markdown",
   "metadata": {},
   "source": [
    "## Method"
   ]
  },
  {
   "cell_type": "markdown",
   "metadata": {},
   "source": [
    "\n",
    "The functions below will create simulations; then, it will calculate the probability of winning a game. After that, the result from both scoring methods will be compared. A graph that shows the probability of A winning the game and ra/rb will be plotted to show the result. From there, the fairness of the methods can be observed.\n"
   ]
  },
  {
   "cell_type": "markdown",
   "metadata": {},
   "source": [
    "\n",
    "- ra = the ability of player A\n",
    "- rb = the ability of player B\n",
    "- simulations = how many times the simulations are repeated"
   ]
  },
  {
   "cell_type": "code",
   "execution_count": 58,
   "metadata": {},
   "outputs": [
    {
     "name": "stdout",
     "output_type": "stream",
     "text": [
      "The probability of winning game with PARS scoring is 0.8288\n",
      "The probability of winning game with english scoring is 0.9997\n"
     ]
    }
   ],
   "source": [
    "#probability of winning a game with the PARS scoring\n",
    "def win_probability_game_PARS(ra, rb, simulations):\n",
    "    win_a = 0\n",
    "    win_b = 0\n",
    "    win_list = []\n",
    "    \n",
    "    for x in range(simulations):\n",
    "        win_list.append(game(ra,rb))#funtion for PARS scoring method\n",
    "    \n",
    "\n",
    "    for key in win_list:\n",
    "        if key[0] > key[1]:\n",
    "            win_a = win_a + 1\n",
    "        else:\n",
    "            win_b = win_b + 1\n",
    "\n",
    "    prob = win_a / (win_a + win_b)\n",
    "    \n",
    "    print(f\"The probability of winning game with PARS scoring is {prob}\")\n",
    "\n",
    "#funtion for english scoring\n",
    "def english_score(ra,rb): \n",
    "    point_a = 0  #score player a\n",
    "    point_b = 0  #score player b\n",
    "    prob_of_winning_a = ra / (ra + rb) \n",
    "    a = 'player_a'\n",
    "    b = 'player_b'\n",
    "    players = [ a, b]\n",
    "    server = random.choice(players)\n",
    "    score_winning = 9\n",
    "\n",
    "    while point_a < score_winning and point_b < score_winning:\n",
    "        num = random.random()\n",
    "        if num <= prob_of_winning_a and server == a:\n",
    "            point_a = point_a + 1\n",
    "        elif num <= prob_of_winning_a and server == b:\n",
    "            server = a\n",
    "         \n",
    "\n",
    "        if num >= prob_of_winning_a and server == b:\n",
    "            point_b = point_b + 1\n",
    "        elif num <= prob_of_winning_a and server == b:\n",
    "            server = a\n",
    "           \n",
    "            \n",
    "    return point_a, point_b\n",
    "\n",
    "#probability of winninng a game with the English scoring\n",
    "def win_probability_game_english(ra, rb, simulations):\n",
    "    win_a = 0\n",
    "    win_b = 0\n",
    "    win_list = []\n",
    "    \n",
    "    for x in range(simulations):\n",
    "        win_list.append(english_score(ra,rb))\n",
    "    \n",
    "\n",
    "    for key in win_list:\n",
    "        if key[0] > key[1]:\n",
    "            win_a = win_a + 1\n",
    "        else:\n",
    "            win_b = win_b + 1\n",
    "\n",
    "    prob = win_a / (win_a + win_b)\n",
    "    \n",
    "    print(f\"The probability of winning game with english scoring is {prob}\")\n",
    "\n",
    "win_probability_game_PARS(60, 40, 10000)\n",
    "win_probability_game_english(60, 40, 10000)\n"
   ]
  },
  {
   "cell_type": "markdown",
   "metadata": {},
   "source": [
    "## Assumptions"
   ]
  },
  {
   "cell_type": "markdown",
   "metadata": {},
   "source": [
    "The assumption is that English scoring will give more advantage to the player with higher ability. This should be shown by the higher probability of winning the game with the English scoring method. This is because in the English scoring method, whoever wins a rally will become a server and if the server scores, they will gain a point. Assuming that the better player has a higher chance of becoming a server and continuing throughout the game as a server, that player will also have a higher chance of winning the game."
   ]
  },
  {
   "cell_type": "markdown",
   "metadata": {},
   "source": [
    "## Results"
   ]
  },
  {
   "cell_type": "code",
   "execution_count": 59,
   "metadata": {},
   "outputs": [
    {
     "ename": "ModuleNotFoundError",
     "evalue": "No module named 'matplotlib'",
     "output_type": "error",
     "traceback": [
      "\u001b[1;31m---------------------------------------------------------------------------\u001b[0m",
      "\u001b[1;31mModuleNotFoundError\u001b[0m                       Traceback (most recent call last)",
      "\u001b[1;32mC:\\Users\\KINANT~1\\AppData\\Local\\Temp/ipykernel_29628/4256834530.py\u001b[0m in \u001b[0;36m<module>\u001b[1;34m\u001b[0m\n\u001b[1;32m----> 1\u001b[1;33m \u001b[1;32mfrom\u001b[0m \u001b[0mmatplotlib\u001b[0m \u001b[1;32mimport\u001b[0m \u001b[0mpyplot\u001b[0m \u001b[1;32mas\u001b[0m \u001b[0mplt\u001b[0m\u001b[1;33m\u001b[0m\u001b[1;33m\u001b[0m\u001b[0m\n\u001b[0m\u001b[0;32m      2\u001b[0m \u001b[1;33m\u001b[0m\u001b[0m\n\u001b[0;32m      3\u001b[0m \u001b[1;32mdef\u001b[0m \u001b[0mgraph_compare\u001b[0m\u001b[1;33m(\u001b[0m\u001b[0msimulations\u001b[0m\u001b[1;33m=\u001b[0m\u001b[1;36m100\u001b[0m\u001b[1;33m)\u001b[0m\u001b[1;33m:\u001b[0m\u001b[1;33m\u001b[0m\u001b[1;33m\u001b[0m\u001b[0m\n\u001b[0;32m      4\u001b[0m \u001b[1;33m\u001b[0m\u001b[0m\n\u001b[0;32m      5\u001b[0m     player_ability = [(60, 20),(100, 55),(50, 40), (20, 70), (95, 85), (37, 70),(13, 67),\n",
      "\u001b[1;31mModuleNotFoundError\u001b[0m: No module named 'matplotlib'"
     ]
    }
   ],
   "source": [
    "from matplotlib import pyplot as plt\n",
    "\n",
    "def graph_compare(simulations=100):\n",
    "\n",
    "    player_ability = [(60, 20),(100, 55),(50, 40), (20, 70), (95, 85), (37, 70),(13, 67),\n",
    "    (52, 86),(11, 53),(58, 28),(53, 36),(11, 21),(37, 75),(61, 91),(15, 69),(65, 15),\n",
    "    (48, 93),(32, 16),(88, 29),(48, 58),(42, 34),(77, 15),(83, 82),(27, 17),(35, 49),\n",
    "    (60, 39),(37, 85),(98, 90),(75, 20),(92, 48),(52, 62),(68, 40),(12, 21),(86, 25),\n",
    "    (65, 71),(32, 23),(39, 37),(41, 98),(52, 21),(31, 59),(86, 32),(60, 31),(85, 39),\n",
    "    (74, 63),(77, 12),(59, 94),(63, 64),(37, 53),(92, 94),(46, 88),(58, 33),(48, 28),\n",
    "    (36, 14),(29, 14),(26, 47),(10, 74),(22, 97),(66, 14),(23, 58),(33,54)]\n",
    "\n",
    "    fig = plt.figure()\n",
    "    ax = fig.add_subplot(111)\n",
    "    PARS_list = []\n",
    "    english_list = []\n",
    "    \n",
    "    x = ([int(a[0])/int(a[1]) for a in player_ability])\n",
    "    \n",
    "    for i in player_ability:\n",
    "        PARS_list.append(win_probability_game_PARS(i[0], i[1], simulations))\n",
    "    \n",
    "    for j in player_ability:\n",
    "        english_list.append(win_probability_game_english(j[0], j[1], simulations))\n",
    "\n",
    "    ax.set_title('English Scoring vs PARS scoring')\n",
    "    ax.scatter(x, PARS_list, label = \"PARS scoring\")\n",
    "    plt.scatter(x, english_list, color = 'red', label = \"English scoring\")\n",
    "\n",
    "    ax.set_xlabel('ra/rb')\n",
    "    ax.set_ylabel('Probability of A winning a game')\n",
    "    plt.legend()\n",
    "    plt.show()\n",
    "\n",
    "graph_compare(simulations=100)\n"
   ]
  },
  {
   "cell_type": "markdown",
   "metadata": {},
   "source": [
    "From the graph, it can be seen that, with English scoring (the red dot), player A have a higher probability of winning than with the PARS scoring method. Moreover, the English scoring method results are more consistent than the PARS scoring method. The graph also shows that the more experienced player will gain more advantage with the English scoring method even with the slightest difference in ability. This means that the English scoring method is fairer because it gives more advantage to the player with better ability.\n",
    "\n",
    "*lower ra/RB shows that player b have higher ability than player a"
   ]
  },
  {
   "cell_type": "markdown",
   "metadata": {},
   "source": [
    "## Conclusions"
   ]
  },
  {
   "cell_type": "markdown",
   "metadata": {},
   "source": [
    "BRIEF SUMMARY\n",
    "\n",
    "Firstly, identify a clear and concise problem that needs to be investigated. Then, write all the functions that will create the simulation. After that, the simulations are repeated (100 times) and tested with 60 different combinations of the player's ability; therefore, the graph will become more reliable. From there, the conclusion can be written.\n",
    "\n",
    "LIMITATION\n",
    "- This function is based on generating a random number to simulate the game and can only input the estimation of the player's ability.\n",
    "- In the real world, the player's condition, environment, and other external variables also affect the game, but it is hard to put that into the functions.\n",
    "\n",
    "\n",
    "FUTURE EXTENSIONS\n",
    "- Input larger different combination of player's ability\n",
    "- Visualisation of the simulation can be used to help other people to understand the function \n",
    "- A way to take other external variables (environment, etc.) can be added into the function to have a more accurate prediction."
   ]
  }
 ],
 "metadata": {
  "interpreter": {
   "hash": "183b6f3dd52b9ae2bd385afe1588cc6cf56d78005d888e2b09b3c195f16f84ec"
  },
  "kernelspec": {
   "display_name": "Python 3.9.1 64-bit ('base': conda)",
   "name": "python3"
  },
  "language_info": {
   "codemirror_mode": {
    "name": "ipython",
    "version": 3
   },
   "file_extension": ".py",
   "mimetype": "text/x-python",
   "name": "python",
   "nbconvert_exporter": "python",
   "pygments_lexer": "ipython3",
   "version": "3.10.0"
  },
  "orig_nbformat": 4
 },
 "nbformat": 4,
 "nbformat_minor": 2
}
